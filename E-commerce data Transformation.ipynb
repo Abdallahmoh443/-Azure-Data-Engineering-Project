{
 "cells": [
  {
   "cell_type": "code",
   "execution_count": 0,
   "metadata": {
    "application/vnd.databricks.v1+cell": {
     "cellMetadata": {
      "byteLimit": 2048000,
      "rowLimit": 10000
     },
     "inputWidgets": {},
     "nuid": "",
     "showTitle": true,
     "title": "Handel configrestions"
    }
   },
   "outputs": [
    {
     "output_type": "execute_result",
     "data": {
      "text/plain": [
       "True"
      ]
     },
     "execution_count": 13,
     "metadata": {},
     "output_type": "execute_result"
    }
   ],
   "source": [
    "configs = {\"fs.azure.account.auth.type\": \"OAuth\",\n",
    "\"fs.azure.account.oauth.provider.type\": \"org.apache.hadoop.fs.azurebfs.oauth2.ClientCredsTokenProvider\",\n",
    "\"fs.azure.account.oauth2.client.id\": \"\",\n",
    "\"fs.azure.account.oauth2.client.secret\": '',\n",
    "\"fs.azure.account.oauth2.client.endpoint\": \"https://login.microsoftonline.com//oauth2/token\"}\n",
    "\n",
    "\n",
    "dbutils.fs.mount(\n",
    "source = \"abfss://e-commerce@ecommercdata.dfs.core.windows.net\", # contrainer@storageacc\n",
    "mount_point = \"/mnt/commerce\",\n",
    "extra_configs = configs)\n",
    "  "
   ]
  },
  {
   "cell_type": "code",
   "execution_count": 0,
   "metadata": {
    "application/vnd.databricks.v1+cell": {
     "cellMetadata": {
      "byteLimit": 2048000,
      "rowLimit": 10000
     },
     "inputWidgets": {},
     "nuid": "34264ded-6231-4b19-8482-df6c1fc59de8",
     "showTitle": true,
     "title": "check files path"
    }
   },
   "outputs": [
    {
     "output_type": "display_data",
     "data": {
      "text/html": [
       "<style scoped>\n",
       "  .table-result-container {\n",
       "    max-height: 300px;\n",
       "    overflow: auto;\n",
       "  }\n",
       "  table, th, td {\n",
       "    border: 1px solid black;\n",
       "    border-collapse: collapse;\n",
       "  }\n",
       "  th, td {\n",
       "    padding: 5px;\n",
       "  }\n",
       "  th {\n",
       "    text-align: left;\n",
       "  }\n",
       "</style><div class='table-result-container'><table class='table-result'><thead style='background-color: white'><tr><th>path</th><th>name</th><th>size</th><th>modificationTime</th></tr></thead><tbody><tr><td>dbfs:/mnt/commerce/raw-data/</td><td>raw-data/</td><td>0</td><td>1726574848000</td></tr><tr><td>dbfs:/mnt/commerce/transformed-data/</td><td>transformed-data/</td><td>0</td><td>1726574862000</td></tr></tbody></table></div>"
      ]
     },
     "metadata": {
      "application/vnd.databricks.v1+output": {
       "addedWidgets": {},
       "aggData": [],
       "aggError": "",
       "aggOverflow": false,
       "aggSchema": [],
       "aggSeriesLimitReached": false,
       "aggType": "",
       "arguments": {},
       "columnCustomDisplayInfos": {},
       "data": [
        [
         "dbfs:/mnt/commerce/raw-data/",
         "raw-data/",
         0,
         1726574848000
        ],
        [
         "dbfs:/mnt/commerce/transformed-data/",
         "transformed-data/",
         0,
         1726574862000
        ]
       ],
       "datasetInfos": [],
       "dbfsResultPath": null,
       "isJsonSchema": true,
       "metadata": {
        "isDbfsCommandResult": false
       },
       "overflow": false,
       "plotOptions": {
        "customPlotOptions": {},
        "displayType": "table",
        "pivotAggregation": null,
        "pivotColumns": null,
        "xColumns": null,
        "yColumns": null
       },
       "removedWidgets": [],
       "schema": [
        {
         "metadata": "{}",
         "name": "path",
         "type": "\"string\""
        },
        {
         "metadata": "{}",
         "name": "name",
         "type": "\"string\""
        },
        {
         "metadata": "{}",
         "name": "size",
         "type": "\"long\""
        },
        {
         "metadata": "{}",
         "name": "modificationTime",
         "type": "\"long\""
        }
       ],
       "type": "table"
      }
     },
     "output_type": "display_data"
    }
   ],
   "source": [
    "%fs\n",
    "ls \"/mnt/commerce\"\n"
   ]
  },
  {
   "cell_type": "code",
   "execution_count": 0,
   "metadata": {
    "application/vnd.databricks.v1+cell": {
     "cellMetadata": {
      "byteLimit": 2048000,
      "rowLimit": 10000
     },
     "inputWidgets": {},
     "nuid": "c6c02967-8a0e-4c74-8f4d-0bba541cd333",
     "showTitle": true,
     "title": "Read the CSV file into a DataFrame"
    }
   },
   "outputs": [],
   "source": [
    "orders = spark.read.format(\"csv\").option(\"header\", \"true\").option(\"inferSchema\", \"true\").load(\"/mnt/commerce/raw-data/orders\")\n",
    "order_details = spark.read.format(\"csv\").option(\"header\", \"true\").option(\"inferSchema\", \"true\").load(\"/mnt/commerce/raw-data/orderdetails\")\n",
    "target = spark.read.format(\"csv\").option(\"header\", \"true\").option(\"inferSchema\", \"true\").load(\"/mnt/commerce/raw-data/target\")"
   ]
  },
  {
   "cell_type": "code",
   "execution_count": 0,
   "metadata": {
    "application/vnd.databricks.v1+cell": {
     "cellMetadata": {
      "byteLimit": 2048000,
      "rowLimit": 10000
     },
     "inputWidgets": {},
     "nuid": "42f8a3a4-0afe-4c51-b9d7-bc6fb9c18e8a",
     "showTitle": true,
     "title": "check columns data types"
    }
   },
   "outputs": [
    {
     "output_type": "stream",
     "name": "stdout",
     "output_type": "stream",
     "text": [
      "root\n |-- Order ID: string (nullable = true)\n |-- Order Date: date (nullable = true)\n |-- CustomerName: string (nullable = true)\n |-- State: string (nullable = true)\n |-- City: string (nullable = true)\n\nroot\n |-- Order ID: string (nullable = true)\n |-- Amount: double (nullable = true)\n |-- Profit: double (nullable = true)\n |-- Quantity: integer (nullable = true)\n |-- Category: string (nullable = true)\n |-- Sub-Category: string (nullable = true)\n\nroot\n |-- Month of Order Date: string (nullable = true)\n |-- Category: string (nullable = true)\n |-- Target: double (nullable = true)\n\n"
     ]
    }
   ],
   "source": [
    "orders.printSchema()\n",
    "order_details.printSchema()\n",
    "target.printSchema()"
   ]
  },
  {
   "cell_type": "code",
   "execution_count": 0,
   "metadata": {
    "application/vnd.databricks.v1+cell": {
     "cellMetadata": {
      "byteLimit": 2048000,
      "rowLimit": 10000
     },
     "inputWidgets": {},
     "nuid": "be5b8d6c-9460-4373-9f63-9a24d717f6fd",
     "showTitle": true,
     "title": "cleaning orders dataframe"
    }
   },
   "outputs": [
    {
     "output_type": "stream",
     "name": "stdout",
     "output_type": "stream",
     "text": [
      "+--------+----------+------------+-----------------+------------------+\n|Order ID|Order Date|CustomerName|            State|              City|\n+--------+----------+------------+-----------------+------------------+\n| B-25601|2018-04-01|      Bharat|          Gujarat|         Ahmedabad|\n| B-25602|2018-04-01|       Pearl|      Maharashtra|              Pune|\n| B-25603|2018-04-03|       Jahan|   Madhya Pradesh|            Bhopal|\n| B-25604|2018-04-03|      Divsha|        Rajasthan|            Jaipur|\n| B-25605|2018-04-05|     Kasheen|      West Bengal|           Kolkata|\n| B-25606|2018-04-06|       Hazel|        Karnataka|         Bangalore|\n| B-25607|2018-04-06|    Sonakshi|Jammu and Kashmir|           Kashmir|\n| B-25608|2018-04-08|     Aarushi|       Tamil Nadu|           Chennai|\n| B-25609|2018-04-09|      Jitesh|    Uttar Pradesh|           Lucknow|\n| B-25610|2018-04-09|      Yogesh|            Bihar|             Patna|\n| B-25611|2018-04-11|       Anita|          Kerala |Thiruvananthapuram|\n| B-25612|2018-04-12|   Shrichand|           Punjab|        Chandigarh|\n| B-25613|2018-04-12|      Mukesh|          Haryana|        Chandigarh|\n| B-25614|2018-04-13|     Vandana| Himachal Pradesh|             Simla|\n| B-25615|2018-04-15|      Bhavna|           Sikkim|           Gangtok|\n| B-25616|2018-04-15|       Kanak|              Goa|               Goa|\n| B-25617|2018-04-17|       Sagar|         Nagaland|            Kohima|\n| B-25618|2018-04-18|       Manju|   Andhra Pradesh|         Hyderabad|\n| B-25619|2018-04-18|      Ramesh|          Gujarat|         Ahmedabad|\n| B-25620|2018-04-20|      Sarita|      Maharashtra|              Pune|\n+--------+----------+------------+-----------------+------------------+\nonly showing top 20 rows\n\ncount of orders before cleaning : 560 , after cleaning : 500\n"
     ]
    }
   ],
   "source": [
    "# Drop rows where Order ID or Order Date is null\n",
    "orders_clean = orders.dropna(subset=[\"Order ID\", \"Order Date\"])\n",
    "\n",
    "# Optionally, fill missing values in 'CustomerName', 'State', and 'City' with \"Unknown\"\n",
    "orders_clean = orders_clean.fillna({\"CustomerName\": \"Unknown\", \"State\": \"Unknown\", \"City\": \"Unknown\"})\n",
    "\n",
    "orders_clean.show()\n",
    "orders_clean.count()\n",
    "print(f\"count of rows before cleaning : {orders.count()} , after cleaning : {orders_clean.count()}\")\n"
   ]
  },
  {
   "cell_type": "code",
   "execution_count": 0,
   "metadata": {
    "application/vnd.databricks.v1+cell": {
     "cellMetadata": {
      "byteLimit": 2048000,
      "rowLimit": 10000
     },
     "inputWidgets": {},
     "nuid": "646c2b85-73e3-4c34-aff6-fa407b88e1e0",
     "showTitle": true,
     "title": "cleaining order details dataframe"
    }
   },
   "outputs": [
    {
     "output_type": "stream",
     "name": "stdout",
     "output_type": "stream",
     "text": [
      "+--------+------+-------+--------+-----------+----------------+\n|Order ID|Amount| Profit|Quantity|   Category|    Sub-Category|\n+--------+------+-------+--------+-----------+----------------+\n| B-25601|1275.0|-1148.0|       7|  Furniture|       Bookcases|\n| B-25601|  66.0|  -12.0|       5|   Clothing|           Stole|\n| B-25601|   8.0|   -2.0|       3|   Clothing|     Hankerchief|\n| B-25601|  80.0|  -56.0|       4|Electronics|Electronic Games|\n| B-25602| 168.0| -111.0|       2|Electronics|          Phones|\n| B-25602| 424.0| -272.0|       5|Electronics|          Phones|\n| B-25602|2617.0| 1151.0|       4|Electronics|          Phones|\n| B-25602| 561.0|  212.0|       3|   Clothing|           Saree|\n| B-25602| 119.0|   -5.0|       8|   Clothing|           Saree|\n| B-25603|1355.0|  -60.0|       5|   Clothing|        Trousers|\n| B-25603|  24.0|  -30.0|       1|  Furniture|          Chairs|\n| B-25603| 193.0| -166.0|       3|   Clothing|           Saree|\n| B-25603| 180.0|    5.0|       3|   Clothing|        Trousers|\n| B-25603| 116.0|   16.0|       4|   Clothing|           Stole|\n| B-25603| 107.0|   36.0|       6|   Clothing|           Stole|\n| B-25603|  12.0|    1.0|       2|   Clothing|     Hankerchief|\n| B-25603|  38.0|   18.0|       1|   Clothing|           Kurti|\n| B-25604|  65.0|   17.0|       2|   Clothing|         T-shirt|\n| B-25604| 157.0|    5.0|       9|   Clothing|           Saree|\n| B-25605|  75.0|    0.0|       7|   Clothing|           Saree|\n+--------+------+-------+--------+-----------+----------------+\nonly showing top 20 rows\n\ncount of orders before cleaning : 1500 , after cleaning : 1500\n"
     ]
    }
   ],
   "source": [
    "# Drop rows where Order ID, Amount, or Profit is null\n",
    "order_details_clean = order_details.dropna(subset=[\"Order ID\", \"Amount\", \"Profit\"])\n",
    "\n",
    "# Fill missing values in Category and Sub-Category with \"Unknown\"\n",
    "order_details_clean = order_details_clean.fillna({\"Category\": \"Unknown\", \"Sub-Category\": \"Unknown\"})\n",
    "\n",
    "order_details_clean.show()\n",
    "print(f\"count of rows before cleaning : {order_details.count()} , after cleaning : {order_details_clean.count()}\")"
   ]
  },
  {
   "cell_type": "code",
   "execution_count": 0,
   "metadata": {
    "application/vnd.databricks.v1+cell": {
     "cellMetadata": {
      "byteLimit": 2048000,
      "rowLimit": 10000
     },
     "inputWidgets": {},
     "nuid": "cc449421-074c-4146-9e11-1beeeec3dc9f",
     "showTitle": true,
     "title": "cleaning target dataframe"
    }
   },
   "outputs": [
    {
     "output_type": "stream",
     "name": "stdout",
     "output_type": "stream",
     "text": [
      "+-------------------+---------+-------+\n|Month of Order Date| Category| Target|\n+-------------------+---------+-------+\n|             Apr-18|Furniture|10400.0|\n|             May-18|Furniture|10500.0|\n|             Jun-18|Furniture|10600.0|\n|             Jul-18|Furniture|10800.0|\n|             Aug-18|Furniture|10900.0|\n|             Sep-18|Furniture|11000.0|\n|             Oct-18|Furniture|11100.0|\n|             Nov-18|Furniture|11300.0|\n|             Dec-18|Furniture|11400.0|\n|             Jan-19|Furniture|11500.0|\n|             Feb-19|Furniture|11600.0|\n|             Mar-19|Furniture|11800.0|\n|             Apr-18| Clothing|12000.0|\n|             May-18| Clothing|12000.0|\n|             Jun-18| Clothing|12000.0|\n|             Jul-18| Clothing|14000.0|\n|             Aug-18| Clothing|14000.0|\n|             Sep-18| Clothing|14000.0|\n|             Oct-18| Clothing|16000.0|\n|             Nov-18| Clothing|16000.0|\n+-------------------+---------+-------+\nonly showing top 20 rows\n\ncount of rows before cleaning : 36 , after cleaning : 36\n"
     ]
    }
   ],
   "source": [
    "# Drop rows where Category or Month of Order Date is null\n",
    "target_clean = target.dropna(subset=[\"Month of Order Date\", \"Category\"])\n",
    "\n",
    "# Fill missing values in 'Target' with 0 if nulls represent missing data\n",
    "target_clean = target_clean.fillna({\"Target\": 0})\n",
    "\n",
    "target_clean.show()\n",
    "print(f\"count of rows before cleaning : {target.count()} , after cleaning : {target_clean.count()}\")\n"
   ]
  },
  {
   "cell_type": "code",
   "execution_count": 0,
   "metadata": {
    "application/vnd.databricks.v1+cell": {
     "cellMetadata": {
      "byteLimit": 2048000,
      "rowLimit": 10000
     },
     "inputWidgets": {},
     "nuid": "ecd23644-9fcf-4f1c-8d96-4e4061781640",
     "showTitle": true,
     "title": "full view of each order along with its detailed information"
    }
   },
   "outputs": [
    {
     "output_type": "stream",
     "name": "stdout",
     "output_type": "stream",
     "text": [
      "+--------+----------+------------+--------------+---------+------+-------+--------+-----------+----------------+\n|Order ID|Order Date|CustomerName|         State|     City|Amount| Profit|Quantity|   Category|    Sub-Category|\n+--------+----------+------------+--------------+---------+------+-------+--------+-----------+----------------+\n| B-25601|2018-04-01|      Bharat|       Gujarat|Ahmedabad|1275.0|-1148.0|       7|  Furniture|       Bookcases|\n| B-25601|2018-04-01|      Bharat|       Gujarat|Ahmedabad|  66.0|  -12.0|       5|   Clothing|           Stole|\n| B-25601|2018-04-01|      Bharat|       Gujarat|Ahmedabad|   8.0|   -2.0|       3|   Clothing|     Hankerchief|\n| B-25601|2018-04-01|      Bharat|       Gujarat|Ahmedabad|  80.0|  -56.0|       4|Electronics|Electronic Games|\n| B-25602|2018-04-01|       Pearl|   Maharashtra|     Pune| 168.0| -111.0|       2|Electronics|          Phones|\n| B-25602|2018-04-01|       Pearl|   Maharashtra|     Pune| 424.0| -272.0|       5|Electronics|          Phones|\n| B-25602|2018-04-01|       Pearl|   Maharashtra|     Pune|2617.0| 1151.0|       4|Electronics|          Phones|\n| B-25602|2018-04-01|       Pearl|   Maharashtra|     Pune| 561.0|  212.0|       3|   Clothing|           Saree|\n| B-25602|2018-04-01|       Pearl|   Maharashtra|     Pune| 119.0|   -5.0|       8|   Clothing|           Saree|\n| B-25603|2018-04-03|       Jahan|Madhya Pradesh|   Bhopal|1355.0|  -60.0|       5|   Clothing|        Trousers|\n| B-25603|2018-04-03|       Jahan|Madhya Pradesh|   Bhopal|  24.0|  -30.0|       1|  Furniture|          Chairs|\n| B-25603|2018-04-03|       Jahan|Madhya Pradesh|   Bhopal| 193.0| -166.0|       3|   Clothing|           Saree|\n| B-25603|2018-04-03|       Jahan|Madhya Pradesh|   Bhopal| 180.0|    5.0|       3|   Clothing|        Trousers|\n| B-25603|2018-04-03|       Jahan|Madhya Pradesh|   Bhopal| 116.0|   16.0|       4|   Clothing|           Stole|\n| B-25603|2018-04-03|       Jahan|Madhya Pradesh|   Bhopal| 107.0|   36.0|       6|   Clothing|           Stole|\n| B-25603|2018-04-03|       Jahan|Madhya Pradesh|   Bhopal|  12.0|    1.0|       2|   Clothing|     Hankerchief|\n| B-25603|2018-04-03|       Jahan|Madhya Pradesh|   Bhopal|  38.0|   18.0|       1|   Clothing|           Kurti|\n| B-25604|2018-04-03|      Divsha|     Rajasthan|   Jaipur|  65.0|   17.0|       2|   Clothing|         T-shirt|\n| B-25604|2018-04-03|      Divsha|     Rajasthan|   Jaipur| 157.0|    5.0|       9|   Clothing|           Saree|\n| B-25605|2018-04-05|     Kasheen|   West Bengal|  Kolkata|  75.0|    0.0|       7|   Clothing|           Saree|\n+--------+----------+------------+--------------+---------+------+-------+--------+-----------+----------------+\nonly showing top 20 rows\n\n"
     ]
    }
   ],
   "source": [
    "orders_full = orders_clean.join(order_details_clean, on=\"Order ID\", how=\"inner\")\n",
    "\n",
    "orders_full.show()"
   ]
  },
  {
   "cell_type": "code",
   "execution_count": 0,
   "metadata": {
    "application/vnd.databricks.v1+cell": {
     "cellMetadata": {
      "byteLimit": 2048000,
      "rowLimit": 10000
     },
     "inputWidgets": {},
     "nuid": "252c959e-0f9b-4652-9a12-897af95f41ac",
     "showTitle": true,
     "title": "Create a Year-Month Column"
    }
   },
   "outputs": [
    {
     "output_type": "stream",
     "name": "stdout",
     "output_type": "stream",
     "text": [
      "+--------+----------+------------+--------------+---------+------+-------+--------+-----------+----------------+----------+\n|Order ID|Order Date|CustomerName|         State|     City|Amount| Profit|Quantity|   Category|    Sub-Category|Year-Month|\n+--------+----------+------------+--------------+---------+------+-------+--------+-----------+----------------+----------+\n| B-25601|2018-04-01|      Bharat|       Gujarat|Ahmedabad|1275.0|-1148.0|       7|  Furniture|       Bookcases|   2018-04|\n| B-25601|2018-04-01|      Bharat|       Gujarat|Ahmedabad|  66.0|  -12.0|       5|   Clothing|           Stole|   2018-04|\n| B-25601|2018-04-01|      Bharat|       Gujarat|Ahmedabad|   8.0|   -2.0|       3|   Clothing|     Hankerchief|   2018-04|\n| B-25601|2018-04-01|      Bharat|       Gujarat|Ahmedabad|  80.0|  -56.0|       4|Electronics|Electronic Games|   2018-04|\n| B-25602|2018-04-01|       Pearl|   Maharashtra|     Pune| 168.0| -111.0|       2|Electronics|          Phones|   2018-04|\n| B-25602|2018-04-01|       Pearl|   Maharashtra|     Pune| 424.0| -272.0|       5|Electronics|          Phones|   2018-04|\n| B-25602|2018-04-01|       Pearl|   Maharashtra|     Pune|2617.0| 1151.0|       4|Electronics|          Phones|   2018-04|\n| B-25602|2018-04-01|       Pearl|   Maharashtra|     Pune| 561.0|  212.0|       3|   Clothing|           Saree|   2018-04|\n| B-25602|2018-04-01|       Pearl|   Maharashtra|     Pune| 119.0|   -5.0|       8|   Clothing|           Saree|   2018-04|\n| B-25603|2018-04-03|       Jahan|Madhya Pradesh|   Bhopal|1355.0|  -60.0|       5|   Clothing|        Trousers|   2018-04|\n| B-25603|2018-04-03|       Jahan|Madhya Pradesh|   Bhopal|  24.0|  -30.0|       1|  Furniture|          Chairs|   2018-04|\n| B-25603|2018-04-03|       Jahan|Madhya Pradesh|   Bhopal| 193.0| -166.0|       3|   Clothing|           Saree|   2018-04|\n| B-25603|2018-04-03|       Jahan|Madhya Pradesh|   Bhopal| 180.0|    5.0|       3|   Clothing|        Trousers|   2018-04|\n| B-25603|2018-04-03|       Jahan|Madhya Pradesh|   Bhopal| 116.0|   16.0|       4|   Clothing|           Stole|   2018-04|\n| B-25603|2018-04-03|       Jahan|Madhya Pradesh|   Bhopal| 107.0|   36.0|       6|   Clothing|           Stole|   2018-04|\n| B-25603|2018-04-03|       Jahan|Madhya Pradesh|   Bhopal|  12.0|    1.0|       2|   Clothing|     Hankerchief|   2018-04|\n| B-25603|2018-04-03|       Jahan|Madhya Pradesh|   Bhopal|  38.0|   18.0|       1|   Clothing|           Kurti|   2018-04|\n| B-25604|2018-04-03|      Divsha|     Rajasthan|   Jaipur|  65.0|   17.0|       2|   Clothing|         T-shirt|   2018-04|\n| B-25604|2018-04-03|      Divsha|     Rajasthan|   Jaipur| 157.0|    5.0|       9|   Clothing|           Saree|   2018-04|\n| B-25605|2018-04-05|     Kasheen|   West Bengal|  Kolkata|  75.0|    0.0|       7|   Clothing|           Saree|   2018-04|\n+--------+----------+------------+--------------+---------+------+-------+--------+-----------+----------------+----------+\nonly showing top 20 rows\n\n"
     ]
    }
   ],
   "source": [
    "from pyspark.sql.functions import date_format\n",
    "\n",
    "# Create a new column 'Year-Month' from 'Order Date'\n",
    "orders_full = orders_full.withColumn(\"Year-Month\", date_format(\"Order Date\", \"yyyy-MM\"))\n",
    "\n",
    "orders_full.show()"
   ]
  },
  {
   "cell_type": "code",
   "execution_count": 0,
   "metadata": {
    "application/vnd.databricks.v1+cell": {
     "cellMetadata": {
      "byteLimit": 2048000,
      "rowLimit": 10000
     },
     "inputWidgets": {},
     "nuid": "db4876d7-19fb-49fe-904c-dbdd95898bb3",
     "showTitle": true,
     "title": "Aggregate Data to Calculate Total Sales and Profit per Month"
    }
   },
   "outputs": [
    {
     "output_type": "stream",
     "name": "stdout",
     "output_type": "stream",
     "text": [
      "+----------+-----------+-----------+------------+\n|Year-Month|   Category|Total Sales|Total Profit|\n+----------+-----------+-----------+------------+\n|   2019-03|Electronics|    20860.0|      3430.0|\n|   2018-12|Electronics|    18560.0|      3196.0|\n|   2018-09|   Clothing|    10717.0|     -1585.0|\n|   2018-07|   Clothing|     2981.0|       -48.0|\n|   2018-10|   Clothing|    11488.0|      2148.0|\n|   2018-06|  Furniture|     5532.0|      -856.0|\n|   2019-02|   Clothing|     9569.0|      1822.0|\n|   2018-05|   Clothing|     9518.0|      -267.0|\n|   2018-05|  Furniture|     6220.0|      -794.0|\n|   2018-11|  Furniture|    15165.0|      3945.0|\n|   2018-09|Electronics|     7207.0|      -910.0|\n|   2019-03|  Furniture|    16659.0|      1587.0|\n|   2018-04|Electronics|    11127.0|      -351.0|\n|   2019-02|Electronics|    12593.0|      1927.0|\n|   2019-01|Electronics|    26716.0|      4785.0|\n|   2018-04|  Furniture|     8121.0|     -3425.0|\n|   2019-03|   Clothing|    21418.0|      5060.0|\n|   2018-12|   Clothing|     9545.0|      1901.0|\n|   2018-04|   Clothing|    13478.0|      -184.0|\n|   2018-10|Electronics|    13361.0|      2261.0|\n+----------+-----------+-----------+------------+\nonly showing top 20 rows\n\n"
     ]
    }
   ],
   "source": [
    "from pyspark.sql import functions as F\n",
    "\n",
    "# Group by Year-Month and Category to get total sales and profit\n",
    "monthly_sales_profit = orders_full.groupBy(\"Year-Month\", \"Category\").agg(\n",
    "                                                                        F.sum(\"Amount\").alias(\"Total Sales\"),\n",
    "                                                                        F.sum(\"Profit\").alias(\"Total Profit\")\n",
    "                                                                    )\n",
    "\n",
    "monthly_sales_profit.show()"
   ]
  },
  {
   "cell_type": "code",
   "execution_count": 0,
   "metadata": {
    "application/vnd.databricks.v1+cell": {
     "cellMetadata": {
      "byteLimit": 2048000,
      "rowLimit": 10000
     },
     "inputWidgets": {},
     "nuid": "b97ffe8a-a31a-4d1a-b79a-8ab1188caeb2",
     "showTitle": true,
     "title": "load data to azure datalake gen2"
    }
   },
   "outputs": [],
   "source": [
    "orders_clean.write.mode(\"overwrite\").csv(\"/mnt/commerce/transformed-data/orders\", header=True)\n",
    "target_clean.write.mode(\"overwrite\").csv(\"/mnt/commerce/transformed-data/target\", header=True)\n",
    "order_details_clean.write.mode(\"overwrite\").csv(\"/mnt/commerce/transformed-data/order_details\", header=True)\n",
    "orders_full.write.mode(\"overwrite\").csv(\"/mnt/commerce/transformed-data/orders_full\", header=True)\n",
    "monthly_sales_profit.write.mode(\"overwrite\").csv(\"/mnt/commerce/transformed-data/monthly_sales_profit\", header=True)\n",
    "\n",
    "\n",
    "\n"
   ]
  }
 ],
 "metadata": {
  "application/vnd.databricks.v1+notebook": {
   "dashboards": [],
   "environmentMetadata": {
    "base_environment": "",
    "client": "1"
   },
   "language": "python",
   "notebookMetadata": {
    "mostRecentlyExecutedCommandWithImplicitDF": {
     "commandId": 1652083726256380,
     "dataframes": [
      "_sqldf"
     ]
    },
    "pythonIndentUnit": 4
   },
   "notebookName": "E-commerce data Transformation",
   "widgets": {}
  }
 },
 "nbformat": 4,
 "nbformat_minor": 0
}
